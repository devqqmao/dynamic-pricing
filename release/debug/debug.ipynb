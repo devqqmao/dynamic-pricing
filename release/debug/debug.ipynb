{
 "cells": [
  {
   "cell_type": "code",
   "outputs": [],
   "source": [
    "def load():\n",
    "    import json\n",
    "\n",
    "    def load_dp_offer_ids(shop_id):\n",
    "        from dynamic_pricing.core.read_params import ReadParams\n",
    "        try:\n",
    "            item = list(ReadParams.read(shop_id=shop_id)[0][\"settings\"].keys())\n",
    "        except Exception as e:\n",
    "            print(f\"Unsuccessful load_dp_offer_ids for: {shop_id}\")\n",
    "            item = None\n",
    "        return item\n",
    "\n",
    "    shop_name_to_id = {\"twist\": \"479580b8-30b1-4ace-9da1-77649e3c39ee\",\n",
    "                       \"tomzn\": \"5032acdf-3b10-42d1-a77d-a10bab61e29c\",\n",
    "                       \"stroimarket\": \"0cf90fda-735b-405b-93a9-6e04ae41d941\",\n",
    "                       \"kojima\": \"2f2b5eb3-d0cf-44e1-89f5-fc165def913c\",\n",
    "                       \"aquacenter\": \"f7affe16-ce76-4789-9dd7-dfa45080fd59\",\n",
    "                       \"simulated\": \"shop\"}\n",
    "\n",
    "    for k, v in shop_name_to_id.items():\n",
    "        item = load_dp_offer_ids(v)\n",
    "        print(k)\n",
    "        path = f\"/Users/dev.daniil.bakushkin/Desktop/suppi/backend/dynamic_pricing/ml/release/model/data/dp_offer_ids/{v}.json\"\n",
    "        with open(path, \"w\") as f:\n",
    "            json.dump(item, f, indent=4, sort_keys=False)\n"
   ],
   "metadata": {
    "collapsed": false
   },
   "id": "4f3779f2ef2065c0"
  }
 ],
 "metadata": {
  "kernelspec": {
   "display_name": "Python 3",
   "language": "python",
   "name": "python3"
  },
  "language_info": {
   "codemirror_mode": {
    "name": "ipython",
    "version": 2
   },
   "file_extension": ".py",
   "mimetype": "text/x-python",
   "name": "python",
   "nbconvert_exporter": "python",
   "pygments_lexer": "ipython2",
   "version": "2.7.6"
  }
 },
 "nbformat": 4,
 "nbformat_minor": 5
}
